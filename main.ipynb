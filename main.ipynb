{
 "cells": [
  {
   "cell_type": "code",
   "execution_count": 1,
   "metadata": {},
   "outputs": [
    {
     "data": {
      "text/plain": [
       "(28382, 21)"
      ]
     },
     "execution_count": 1,
     "metadata": {},
     "output_type": "execute_result"
    }
   ],
   "source": [
    "import pandas as pd\n",
    "import numpy as np\n",
    "from sklearn.linear_model import LogisticRegression\n",
    "from sklearn.neighbors import KNeighborsClassifier as KNN\n",
    "from sklearn.tree import DecisionTreeClassifier\n",
    "from sklearn.ensemble import RandomForestClassifier\n",
    "from sklearn.preprocessing import MinMaxScaler\n",
    "from sklearn.linear_model import LogisticRegression as LogReg\n",
    "from sklearn.model_selection import train_test_split\n",
    "from sklearn.metrics import f1_score\n",
    "import matplotlib.pyplot as plt\n",
    "df = pd.read_csv(\"churn_prediction.csv\")\n",
    "df.shape"
   ]
  },
  {
   "cell_type": "markdown",
   "metadata": {},
   "source": [
    "### Missing value and outlier treatment"
   ]
  },
  {
   "cell_type": "code",
   "execution_count": 2,
   "metadata": {},
   "outputs": [],
   "source": [
    "df=df[df['dependents']<7]\n",
    "#plt.scatter(data['age'],data['dependents'])\n",
    "df['dependents'].fillna(0,inplace=True);\n",
    "df['gender'].fillna('Male',inplace=True);\n",
    "df['occupation'].fillna('self_employed',inplace=True); \n",
    "df['days_since_last_transaction'].fillna(70,inplace=True); \n",
    "df=df.dropna()\n",
    "# df = df.drop(\"customer_id\",axis=1)\n",
    "# df = df.drop(\"branch_code\",axis=1)"
   ]
  },
  {
   "cell_type": "markdown",
   "metadata": {},
   "source": [
    "### Variable Trasformation"
   ]
  },
  {
   "cell_type": "code",
   "execution_count": 3,
   "metadata": {},
   "outputs": [],
   "source": [
    "import math\n",
    "# df['vintage']=np.sqrt(df['vintage'])\n",
    "# df = df[df['dependents']<6]\n",
    "# df['dependents'].value_counts()"
   ]
  },
  {
   "cell_type": "markdown",
   "metadata": {},
   "source": [
    "### Model making"
   ]
  },
  {
   "cell_type": "code",
   "execution_count": 4,
   "metadata": {},
   "outputs": [],
   "source": [
    "df = pd.get_dummies(df)"
   ]
  },
  {
   "cell_type": "code",
   "execution_count": 5,
   "metadata": {},
   "outputs": [
    {
     "data": {
      "text/plain": [
       "((25175, 25), (25175,))"
      ]
     },
     "execution_count": 5,
     "metadata": {},
     "output_type": "execute_result"
    }
   ],
   "source": [
    "x = df.drop(['churn'], axis=1)\n",
    "y = df['churn']\n",
    "x.shape, y.shape"
   ]
  },
  {
   "cell_type": "code",
   "execution_count": 6,
   "metadata": {},
   "outputs": [],
   "source": [
    "train_x,test_x,train_y,test_y = train_test_split(x,y, random_state = 56,stratify=y)\n",
    "scaler = MinMaxScaler()\n",
    "cols = train_x.columns\n",
    "# cols\n",
    "train_x_scaled = scaler.fit_transform(train_x)\n",
    "train_x = pd.DataFrame(train_x_scaled, columns=cols)\n",
    "test_x_scaled = scaler.transform(test_x)\n",
    "test_x = pd.DataFrame(test_x_scaled, columns=cols)\n",
    "# train_x"
   ]
  },
  {
   "cell_type": "markdown",
   "metadata": {},
   "source": [
    "### Random forest"
   ]
  },
  {
   "cell_type": "code",
   "execution_count": 7,
   "metadata": {},
   "outputs": [
    {
     "name": "stdout",
     "output_type": "stream",
     "text": [
      "0.4876182806523051 0.49112426035502954\n",
      "0.8633619319987289\n"
     ]
    }
   ],
   "source": [
    "clf = RandomForestClassifier(random_state=50, max_depth=6, n_estimators=76)\n",
    "clf.fit(train_x,train_y)\n",
    "temp=pd.DataFrame(clf.predict(train_x))\n",
    "trainscore = f1_score(temp,train_y)\n",
    "pred1=clf.predict(test_x)\n",
    "testscore = f1_score(pred1,test_y)\n",
    "print(trainscore,testscore)\n",
    "print(clf.score(test_x,test_y))"
   ]
  },
  {
   "cell_type": "markdown",
   "metadata": {},
   "source": [
    "### Decision Tree"
   ]
  },
  {
   "cell_type": "code",
   "execution_count": 8,
   "metadata": {},
   "outputs": [
    {
     "name": "stdout",
     "output_type": "stream",
     "text": [
      "0.521919944550338 0.5360928823826351\n",
      "0.8539879250079441\n"
     ]
    }
   ],
   "source": [
    "clf = DecisionTreeClassifier(random_state=96,max_depth=4,min_samples_leaf=240)\n",
    "clf.fit(train_x,train_y)\n",
    "clf.score(train_x, train_y),clf.score(test_x, test_y)\n",
    "temp=pd.DataFrame(clf.predict(train_x))\n",
    "trainscore = f1_score(temp,train_y)\n",
    "pred2=clf.predict(test_x)\n",
    "testscore = f1_score(pred2,test_y)\n",
    "print(trainscore,testscore)\n",
    "print(clf.score(test_x,test_y))"
   ]
  },
  {
   "cell_type": "markdown",
   "metadata": {},
   "source": [
    "### Logistic Regression"
   ]
  },
  {
   "cell_type": "code",
   "execution_count": 9,
   "metadata": {},
   "outputs": [
    {
     "name": "stdout",
     "output_type": "stream",
     "text": [
      "0.002320185614849188 0.003481288076588338\n",
      "0.8180807117890054\n"
     ]
    }
   ],
   "source": [
    "logreg = LogReg(solver='saga')\n",
    "logreg.fit(train_x, train_y)\n",
    "temp=pd.DataFrame(logreg.predict(train_x))\n",
    "trainscore = f1_score(temp,train_y)\n",
    "pred3=logreg.predict(test_x)\n",
    "temp=pd.DataFrame(logreg.predict(test_x))\n",
    "testscore = f1_score(temp,test_y)\n",
    "print(trainscore,testscore)\n",
    "print(logreg.score(test_x,test_y))"
   ]
  },
  {
   "cell_type": "markdown",
   "metadata": {},
   "source": [
    "### K_NN"
   ]
  },
  {
   "cell_type": "code",
   "execution_count": 10,
   "metadata": {},
   "outputs": [
    {
     "name": "stdout",
     "output_type": "stream",
     "text": [
      "0.2701465201465202 0.08531468531468532\n",
      "0.792183031458532\n"
     ]
    }
   ],
   "source": [
    "k_nn=KNN(n_neighbors=5)\n",
    "k_nn.fit(train_x,train_y)\n",
    "temp=pd.DataFrame(k_nn.predict(train_x))\n",
    "trainscore = f1_score(temp,train_y)\n",
    "pred4=k_nn.predict(test_x)\n",
    "temp=pd.DataFrame(k_nn.predict(test_x))\n",
    "testscore = f1_score(temp,test_y)\n",
    "print(trainscore,testscore)\n",
    "print(k_nn.score(test_x,test_y))"
   ]
  },
  {
   "cell_type": "markdown",
   "metadata": {},
   "source": [
    "## Ensemble"
   ]
  },
  {
   "cell_type": "code",
   "execution_count": 19,
   "metadata": {},
   "outputs": [],
   "source": [
    "from statistics import mode\n",
    "final_pred = np.array([])\n",
    "for i in range(0,len(test_x)):\n",
    "    final_pred = np.append(final_pred, mode([pred1[i], pred2[i], pred3[i],pred4[i]]))"
   ]
  },
  {
   "cell_type": "code",
   "execution_count": 22,
   "metadata": {},
   "outputs": [
    {
     "name": "stdout",
     "output_type": "stream",
     "text": [
      "Accuracy_score= 0.8603431839847474\n",
      "F1_score= 0.46823956442831216\n"
     ]
    }
   ],
   "source": [
    "from sklearn.metrics import accuracy_score\n",
    "print(\"Accuracy_score=\",accuracy_score(test_y, final_pred))\n",
    "print(\"F1_score=\",f1_score(final_pred,test_y))"
   ]
  },
  {
   "cell_type": "code",
   "execution_count": null,
   "metadata": {},
   "outputs": [],
   "source": []
  }
 ],
 "metadata": {
  "kernelspec": {
   "display_name": "Python 3",
   "language": "python",
   "name": "python3"
  },
  "language_info": {
   "codemirror_mode": {
    "name": "ipython",
    "version": 3
   },
   "file_extension": ".py",
   "mimetype": "text/x-python",
   "name": "python",
   "nbconvert_exporter": "python",
   "pygments_lexer": "ipython3",
   "version": "3.8.2"
  }
 },
 "nbformat": 4,
 "nbformat_minor": 4
}
